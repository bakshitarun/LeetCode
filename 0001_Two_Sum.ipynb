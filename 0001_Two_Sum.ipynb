{
 "cells": [
  {
   "cell_type": "code",
   "execution_count": 1,
   "metadata": {},
   "outputs": [],
   "source": [
    "from typing import List  # Importing List from typing for type annotation\n",
    "\n",
    "class Solution:\n",
    "    def twoSum(self, nums: List[int], target: int) -> List[int]:\n",
    "        \"\"\"\n",
    "        This function takes a list of integers `nums` and an integer `target`. \n",
    "        It returns the indices of two numbers in the list that add up to the target.\n",
    "        \"\"\"\n",
    "        h = {}  # Create an empty dictionary to store numbers and their indices.\n",
    "\n",
    "        # First pass: populate the dictionary with the numbers as keys and their indices as values.\n",
    "        for i in range(len(nums)):\n",
    "            h[nums[i]] = i  # Map the current number to its index in the dictionary.\n",
    "\n",
    "        # Second pass: iterate through the list to find two numbers that add up to the target.\n",
    "        for i in range(len(nums)):\n",
    "            y = target - nums[i]  # Calculate the complement of the current number.\n",
    "\n",
    "            # Check if the complement exists in the dictionary and ensure it's not the same index.\n",
    "            if y in h and h[y] != i:\n",
    "                return [i, h[y]]  # Return the indices of the two numbers.\n"
   ]
  },
  {
   "cell_type": "code",
   "execution_count": 2,
   "metadata": {},
   "outputs": [
    {
     "data": {
      "text/plain": [
       "[0, 3]"
      ]
     },
     "execution_count": 2,
     "metadata": {},
     "output_type": "execute_result"
    }
   ],
   "source": [
    "s=Solution()\n",
    "s.twoSum([2,7,11,8],10)"
   ]
  }
 ],
 "metadata": {
  "kernelspec": {
   "display_name": "Python 3",
   "language": "python",
   "name": "python3"
  },
  "language_info": {
   "codemirror_mode": {
    "name": "ipython",
    "version": 3
   },
   "file_extension": ".py",
   "mimetype": "text/x-python",
   "name": "python",
   "nbconvert_exporter": "python",
   "pygments_lexer": "ipython3",
   "version": "3.10.11"
  }
 },
 "nbformat": 4,
 "nbformat_minor": 2
}
