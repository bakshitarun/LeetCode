{
  "nbformat": 4,
  "nbformat_minor": 0,
  "metadata": {
    "colab": {
      "provenance": [],
      "authorship_tag": "ABX9TyOdCzQJca8DiFRmQB8hcWXO"
    },
    "kernelspec": {
      "name": "python3",
      "display_name": "Python 3"
    },
    "language_info": {
      "name": "python"
    }
  },
  "cells": [
    {
      "cell_type": "code",
      "execution_count": null,
      "metadata": {
        "id": "_KPUCk13ocEs"
      },
      "outputs": [],
      "source": []
    },
    {
      "cell_type": "code",
      "source": [],
      "metadata": {
        "id": "bryXEzUtr1eU"
      },
      "execution_count": null,
      "outputs": []
    },
    {
      "cell_type": "code",
      "source": [
        "class Solution:\n",
        "    def mergeAlternately(self, word1: str, word2: str) -> str:\n",
        "        i = j= 0\n",
        "        myList = []\n",
        "        while i <len(word1) and j< len(word2):\n",
        "            myList.append(word1[i])\n",
        "            myList.append(word2[j])\n",
        "            i += 1\n",
        "            j += 1\n",
        "        myList.append(word1[i:])\n",
        "        myList.append(word2[j:])\n",
        "        return \"\".join(myList)\n",
        "\n",
        "a = Solution()\n",
        "a.mergeAlternately(\"Abcd\",\"pq\")\n",
        "\n"
      ],
      "metadata": {
        "colab": {
          "base_uri": "https://localhost:8080/",
          "height": 36
        },
        "id": "0hrGdgP8qqez",
        "outputId": "152473b1-580c-4426-f1f3-e07ac839577b"
      },
      "execution_count": null,
      "outputs": [
        {
          "output_type": "execute_result",
          "data": {
            "text/plain": [
              "'Apbqcd'"
            ],
            "application/vnd.google.colaboratory.intrinsic+json": {
              "type": "string"
            }
          },
          "metadata": {},
          "execution_count": 10
        }
      ]
    },
    {
      "cell_type": "code",
      "source": [],
      "metadata": {
        "id": "OGDADVauqq3d"
      },
      "execution_count": null,
      "outputs": []
    }
  ]
}