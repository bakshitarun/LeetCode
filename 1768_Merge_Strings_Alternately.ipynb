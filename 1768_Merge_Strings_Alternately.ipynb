{
  "cells": [
    {
      "cell_type": "code",
      "execution_count": 1,
      "metadata": {
        "colab": {
          "base_uri": "https://localhost:8080/",
          "height": 36
        },
        "id": "0hrGdgP8qqez",
        "outputId": "152473b1-580c-4426-f1f3-e07ac839577b"
      },
      "outputs": [
        {
          "data": {
            "text/plain": [
              "'Apbqtre'"
            ]
          },
          "execution_count": 1,
          "metadata": {},
          "output_type": "execute_result"
        }
      ],
      "source": [
        "class Solution:\n",
        "    def mergeAlternately(self, word1: str, word2: str) -> str:\n",
        "        i = j= 0\n",
        "        myList = []\n",
        "        while i <len(word1) and j< len(word2):\n",
        "            myList.append(word1[i])\n",
        "            myList.append(word2[j])\n",
        "            i += 1\n",
        "            j += 1\n",
        "        myList.append(word1[i:])\n",
        "        myList.append(word2[j:])\n",
        "        return \"\".join(myList)\n",
        "    \n",
        "\n",
        "a = Solution()\n",
        "a.mergeAlternately(\"Abtre\",\"pq\")\n",
        "\n"
      ]
    },
    {
      "cell_type": "code",
      "execution_count": null,
      "metadata": {
        "id": "OGDADVauqq3d"
      },
      "outputs": [],
      "source": []
    }
  ],
  "metadata": {
    "colab": {
      "authorship_tag": "ABX9TyOdCzQJca8DiFRmQB8hcWXO",
      "provenance": []
    },
    "kernelspec": {
      "display_name": "Python 3",
      "name": "python3"
    },
    "language_info": {
      "codemirror_mode": {
        "name": "ipython",
        "version": 3
      },
      "file_extension": ".py",
      "mimetype": "text/x-python",
      "name": "python",
      "nbconvert_exporter": "python",
      "pygments_lexer": "ipython3",
      "version": "3.10.11"
    }
  },
  "nbformat": 4,
  "nbformat_minor": 0
}
